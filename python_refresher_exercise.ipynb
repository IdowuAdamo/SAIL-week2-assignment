{
  "cells": [
    {
      "cell_type": "markdown",
      "metadata": {
        "vscode": {
          "languageId": "plaintext"
        },
        "id": "7tCuyU_LGEWA"
      },
      "source": [
        "# Python Refresher Exercise  \n",
        "\n",
        "This exercise is designed to help you revisit and test your understanding of core Python concepts covered in class. You will work on tasks covering variables, data types, loops, functions, conditionals, file handling and object-oriented programming. These fundamentals are crucial for your success in more advanced topics like data analysis, machine learning, and building applications.  \n",
        "\n",
        "If you find this exercise particularly challenging, it’s a sign that you should revisit the learning materials and class recordings. Use this as an opportunity to strengthen your foundation before moving forward in the course.  \n",
        "\n",
        "Your goal is to demonstrate proficiency in Python basics by solving the provided problems effectively and writing clean, functional code.  \n",
        "\n",
        "## Instructions  \n",
        "\n",
        "- Answer the questions or complete the tasks outlined in **bold** below.  \n",
        "- Use the specific method described if applicable.  \n",
        "- **Important:** Do not run your code in the same cell where the answer is provided. Create a new cell below/above and write your code there.  \n",
        "- Running code in the same cell as the answer will overwrite the provided hints and answers. Ensure you follow this structure to retain all information.  \n",
        "\n",
        "Good luck!  \n"
      ]
    },
    {
      "cell_type": "markdown",
      "metadata": {
        "id": "a9fJV2yaGEWF"
      },
      "source": [
        "**1. Task:** What is 7 to the power of 4?"
      ]
    },
    {
      "cell_type": "code",
      "execution_count": null,
      "metadata": {
        "id": "PMY6eUIGGEWH",
        "outputId": "edc8d521-26d6-4034-e677-e3e985856e2a"
      },
      "outputs": [
        {
          "data": {
            "text/plain": [
              "2401"
            ]
          },
          "execution_count": 1,
          "metadata": {},
          "output_type": "execute_result"
        }
      ],
      "source": []
    },
    {
      "cell_type": "code",
      "execution_count": 1,
      "metadata": {
        "id": "2FfWtNT1GEWJ",
        "outputId": "31b35e54-894b-460b-e540-efb9408f462a",
        "colab": {
          "base_uri": "https://localhost:8080/"
        }
      },
      "outputs": [
        {
          "output_type": "stream",
          "name": "stdout",
          "text": [
            "2401\n"
          ]
        }
      ],
      "source": [
        "# Write your answer here\n",
        "print(7**4)"
      ]
    },
    {
      "cell_type": "markdown",
      "metadata": {
        "id": "Llzt4LHFGEWK"
      },
      "source": [
        "**2.Task** Split this string:\n",
        "\n",
        "    s = \"Hi there Daveworld!\"\n",
        "    \n",
        "**into a list.**"
      ]
    },
    {
      "cell_type": "code",
      "execution_count": 3,
      "metadata": {
        "id": "It-pcRYVGEWL"
      },
      "outputs": [],
      "source": [
        "s = 'Hi there Daveworld!'\n"
      ]
    },
    {
      "cell_type": "code",
      "execution_count": 5,
      "metadata": {
        "id": "3g5psiIBGEWN",
        "outputId": "b77c0b73-482e-4a6f-be22-feb06430f4a0",
        "colab": {
          "base_uri": "https://localhost:8080/"
        }
      },
      "outputs": [
        {
          "output_type": "stream",
          "name": "stdout",
          "text": [
            "['Hi', 'there', 'Daveworld!']\n"
          ]
        }
      ],
      "source": [
        "# Write your answer here\n",
        "print(s.split())"
      ]
    },
    {
      "cell_type": "markdown",
      "metadata": {
        "id": "NkrV7owlGEWO"
      },
      "source": [
        "**3.Task** Given this nested list, use indexing to grab the word \"hello\""
      ]
    },
    {
      "cell_type": "code",
      "execution_count": 7,
      "metadata": {
        "id": "M1WIOLQeGEWQ"
      },
      "outputs": [],
      "source": [
        "lst = [1,2,[3,4],[5,[100,200,['hello']],23,11],1,7]"
      ]
    },
    {
      "cell_type": "code",
      "execution_count": null,
      "metadata": {
        "id": "U7SNTZfCGEWR",
        "outputId": "2501dfc5-420c-42ab-f5bf-20bf758a34f4"
      },
      "outputs": [
        {
          "data": {
            "text/plain": [
              "'hello'"
            ]
          },
          "execution_count": 4,
          "metadata": {},
          "output_type": "execute_result"
        }
      ],
      "source": []
    },
    {
      "cell_type": "code",
      "execution_count": 8,
      "metadata": {
        "id": "vmD6qdCqGEWS",
        "outputId": "48a2fc26-3f2f-4453-857c-821be092a986",
        "colab": {
          "base_uri": "https://localhost:8080/"
        }
      },
      "outputs": [
        {
          "output_type": "stream",
          "name": "stdout",
          "text": [
            "hello\n"
          ]
        }
      ],
      "source": [
        "# Write your answer here\n",
        "print(lst[3][1][2][0])"
      ]
    },
    {
      "cell_type": "markdown",
      "metadata": {
        "id": "EWu7C-WjGEWS"
      },
      "source": [
        "**4. Task** Given this nest dictionary grab the word \"hello\". Be prepared, this will be annoying/tricky try your best!"
      ]
    },
    {
      "cell_type": "code",
      "execution_count": 10,
      "metadata": {
        "id": "WZOcM4SdGEWT"
      },
      "outputs": [],
      "source": [
        "d = {'k1':[1,2,3,{'tricky':['oh','man','inception',{'target':[1,2,3,'hello']}]}]}"
      ]
    },
    {
      "cell_type": "code",
      "execution_count": null,
      "metadata": {
        "id": "wbxEd5FwGEWU",
        "outputId": "dde0a4c7-a2bb-4694-baf1-1c779076ab32"
      },
      "outputs": [
        {
          "data": {
            "text/plain": [
              "'hello'"
            ]
          },
          "execution_count": 6,
          "metadata": {},
          "output_type": "execute_result"
        }
      ],
      "source": []
    },
    {
      "cell_type": "code",
      "execution_count": 11,
      "metadata": {
        "id": "5yI9y6anGEWU",
        "outputId": "603bfe44-4c7f-4aab-8e87-4e4cbe575f67",
        "colab": {
          "base_uri": "https://localhost:8080/"
        }
      },
      "outputs": [
        {
          "output_type": "stream",
          "name": "stdout",
          "text": [
            "hello\n"
          ]
        }
      ],
      "source": [
        "# Write your answer here\n",
        "print(d['k1'][3]['tricky'][3]['target'][3])"
      ]
    },
    {
      "cell_type": "markdown",
      "metadata": {
        "id": "YO5FnEScGEWV"
      },
      "source": [
        "**5. Task** What is the main difference between a tuple and a list?"
      ]
    },
    {
      "cell_type": "code",
      "execution_count": 13,
      "metadata": {
        "id": "GZgiKuFLGEWV"
      },
      "outputs": [],
      "source": [
        "# Write your answer here\n",
        "# 1. A tupule is immutable while a list is mutable\n",
        "# 2. A tuple is enclosed in parentheses(), a list is enclosed in square brackets[]"
      ]
    },
    {
      "cell_type": "markdown",
      "metadata": {
        "id": "rlroWcbjGEWW"
      },
      "source": [
        "**6. Task** Create a function that grabs the email website domain from a string in the form:\n",
        "\n",
        "    user@domain.com\n",
        "    \n",
        "**So for example, passing \"user@domain.com\" would return: domain.com**"
      ]
    },
    {
      "cell_type": "code",
      "execution_count": 14,
      "metadata": {
        "id": "WQ_0JQZzGEWW"
      },
      "outputs": [],
      "source": [
        "# Write your answer here\n",
        "def domainGet(email):\n",
        "    return email.split('@')[-1]"
      ]
    },
    {
      "cell_type": "code",
      "execution_count": 15,
      "metadata": {
        "id": "EkSX93jhGEWW",
        "outputId": "a60bb641-509a-4337-a873-bcb013f287f5",
        "colab": {
          "base_uri": "https://localhost:8080/",
          "height": 35
        }
      },
      "outputs": [
        {
          "output_type": "execute_result",
          "data": {
            "text/plain": [
              "'domain.com'"
            ],
            "application/vnd.google.colaboratory.intrinsic+json": {
              "type": "string"
            }
          },
          "metadata": {},
          "execution_count": 15
        }
      ],
      "source": [
        "# use the following code to test your implementation\n",
        "domainGet('user@domain.com')"
      ]
    },
    {
      "cell_type": "markdown",
      "metadata": {
        "id": "mS7edN0MGEWX"
      },
      "source": [
        "**7.Task** Create a basic function that returns True if the word 'appliso' is contained in the input string. Don't worry about edge cases like a punctuation being attached to the word 'appliso', but do account for capitalization.\n",
        "\n",
        "    string = \"Appliso is a tech company aiming to change the world!\""
      ]
    },
    {
      "cell_type": "code",
      "execution_count": 16,
      "metadata": {
        "id": "0zsEhvrJGEWX"
      },
      "outputs": [],
      "source": [
        "# write your answer here\n",
        "def findAppliso(string):\n",
        "    return 'appliso' in string.lower()"
      ]
    },
    {
      "cell_type": "code",
      "execution_count": 17,
      "metadata": {
        "id": "Xughw2RLGEWY",
        "outputId": "a3cc808b-bf74-4bca-cda0-d3d77769a531",
        "colab": {
          "base_uri": "https://localhost:8080/"
        }
      },
      "outputs": [
        {
          "output_type": "execute_result",
          "data": {
            "text/plain": [
              "True"
            ]
          },
          "metadata": {},
          "execution_count": 17
        }
      ],
      "source": [
        "# Use the following code to test your implementation\n",
        "findAppliso('Appliso is a tech company aiming to change the world!?')"
      ]
    },
    {
      "cell_type": "markdown",
      "metadata": {
        "id": "oAS_LJr5GEWY"
      },
      "source": [
        "**8. Task** Create a function that counts the number of times the word \"dog\" occurs in a string. Again ignore edge cases."
      ]
    },
    {
      "cell_type": "code",
      "execution_count": 18,
      "metadata": {
        "id": "5Od_tz00GEWZ"
      },
      "outputs": [],
      "source": [
        "# write your answer here\n",
        "def countDog(string):\n",
        "    count = 0\n",
        "    for word in string.lower().split():\n",
        "        if word == 'dog':\n",
        "            count += 1\n",
        "    return count"
      ]
    },
    {
      "cell_type": "code",
      "execution_count": 19,
      "metadata": {
        "id": "Dxi3C3a1GEWZ",
        "outputId": "ed50461d-b221-4c09-8b50-daa6441d39ce",
        "colab": {
          "base_uri": "https://localhost:8080/"
        }
      },
      "outputs": [
        {
          "output_type": "execute_result",
          "data": {
            "text/plain": [
              "2"
            ]
          },
          "metadata": {},
          "execution_count": 19
        }
      ],
      "source": [
        "# Use the following code to test your implementation\n",
        "countDog('This dog runs faster than the other dog dude!')"
      ]
    },
    {
      "cell_type": "markdown",
      "metadata": {
        "id": "OWiwyQh9GEWZ"
      },
      "source": [
        "**9. Task:** Create a class called Person with attributes name and age. Add a method called introduce that prints, \"Hi, I am [name] and I am [age] years old.\" Instantiate an object and call the introduce method."
      ]
    },
    {
      "cell_type": "code",
      "execution_count": 21,
      "metadata": {
        "id": "GP1w-blpGEWa"
      },
      "outputs": [],
      "source": [
        "# write your answer here\n",
        "class Person:\n",
        "    def __init__(self, name, age):\n",
        "        self.name = name\n",
        "        self.age = age\n",
        "    def introduce(self):\n",
        "        print(f\"Hi, I am {self.name} and I am {self.age} years old.\")"
      ]
    },
    {
      "cell_type": "code",
      "source": [
        "Person1 = Person(\"John\", 25)\n",
        "Person1.introduce()"
      ],
      "metadata": {
        "id": "iPkt9laPP6Nn",
        "outputId": "b3dabc32-fd27-4c32-8002-a43860d30aa3",
        "colab": {
          "base_uri": "https://localhost:8080/"
        }
      },
      "execution_count": 22,
      "outputs": [
        {
          "output_type": "stream",
          "name": "stdout",
          "text": [
            "Hi, I am John and I am 25 years old.\n"
          ]
        }
      ]
    },
    {
      "cell_type": "code",
      "execution_count": null,
      "metadata": {
        "id": "2M5XqrFdGEWa",
        "outputId": "3cf5fae9-1e14-469b-cdd4-328a556b332e"
      },
      "outputs": [
        {
          "name": "stdout",
          "output_type": "stream",
          "text": [
            "Hi, I am John and I am 25 years old.\n"
          ]
        }
      ],
      "source": []
    },
    {
      "cell_type": "markdown",
      "metadata": {
        "id": "KXT4Pqf2GEWb"
      },
      "source": [
        "**10.Task:** Write a Python program to create a text file named sample.txt, write \"Hello, Python!\" to it, and then read the content."
      ]
    },
    {
      "cell_type": "code",
      "execution_count": null,
      "metadata": {
        "id": "CvMdGnrbGEWb",
        "outputId": "ed74f581-a591-4b1d-ff10-1a76e2b3183c"
      },
      "outputs": [
        {
          "name": "stdout",
          "output_type": "stream",
          "text": [
            "Hello, Python!\n"
          ]
        }
      ],
      "source": []
    },
    {
      "cell_type": "code",
      "execution_count": 23,
      "metadata": {
        "id": "iOk-jSr7GEWc",
        "outputId": "3f4e5b73-0f18-430a-b3a3-12fa3ed65147",
        "colab": {
          "base_uri": "https://localhost:8080/"
        }
      },
      "outputs": [
        {
          "output_type": "stream",
          "name": "stdout",
          "text": [
            "Hello, Python!\n"
          ]
        }
      ],
      "source": [
        "# write your answer here\n",
        "with open('sample.txt', 'w') as file:\n",
        "    file.write('Hello, Python!')\n",
        "\n",
        "with open('sample.txt', 'r') as file:\n",
        "    content = file.read()\n",
        "\n",
        "print(content)"
      ]
    },
    {
      "cell_type": "markdown",
      "metadata": {
        "id": "3zl-ZFYcGEWc"
      },
      "source": [
        "**11. Task:** Use a list comprehension to create a list of squares for all numbers from 1 to 10.\n",
        "\n"
      ]
    },
    {
      "cell_type": "code",
      "execution_count": 24,
      "metadata": {
        "id": "K5sa2oiEGEWd",
        "outputId": "129a3efe-e74d-469e-f5e2-8cab1f93235d",
        "colab": {
          "base_uri": "https://localhost:8080/"
        }
      },
      "outputs": [
        {
          "output_type": "stream",
          "name": "stdout",
          "text": [
            "[1, 4, 9, 16, 25, 36, 49, 64, 81, 100]\n"
          ]
        }
      ],
      "source": [
        "# List comprehension for squares\n",
        "\n",
        "# List comprehension to create squares of numbers from 1 to 10\n",
        "squares = [x**2 for x in range(1, 11)]\n",
        "\n",
        "print(squares)"
      ]
    },
    {
      "cell_type": "markdown",
      "metadata": {
        "id": "TKBJffSBGEWe"
      },
      "source": [
        "**12. Task:** Import the math library and use it to calculate the square root of 16.\n",
        "\n"
      ]
    },
    {
      "cell_type": "code",
      "execution_count": 25,
      "metadata": {
        "id": "K84o7PkXGEWe",
        "outputId": "25a63a9a-ed27-49e1-dfb9-b99a4945cb50",
        "colab": {
          "base_uri": "https://localhost:8080/"
        }
      },
      "outputs": [
        {
          "output_type": "stream",
          "name": "stdout",
          "text": [
            "4.0\n"
          ]
        }
      ],
      "source": []
    },
    {
      "cell_type": "code",
      "execution_count": null,
      "metadata": {
        "id": "KNN74CxFGEWf"
      },
      "outputs": [],
      "source": [
        "# write your answer here\n",
        "import math\n",
        "\n",
        "# Calculate the square root of 16\n",
        "sqrt_result = math.sqrt(16)\n",
        "\n",
        "print(sqrt_result)"
      ]
    },
    {
      "cell_type": "markdown",
      "metadata": {
        "id": "YMAcPl0JGEWf"
      },
      "source": [
        "**13. Task:** Write a Python program that performs the following:  \n",
        "1. Accepts two numbers from the user.  \n",
        "2. Tries to divide the first number by the second.  \n",
        "3. Handles `ZeroDivisionError` if the second number is zero.  \n",
        "4. Handles `ValueError` if the input is not a number.  \n",
        "5. Prints a message when all operations are complete, whether an exception occurred or not.  \n"
      ]
    },
    {
      "cell_type": "code",
      "execution_count": null,
      "metadata": {
        "id": "EII_uCLUGEWg",
        "outputId": "817e1dc7-0ef2-4752-bbd2-0861a502c97c"
      },
      "outputs": [
        {
          "name": "stdout",
          "output_type": "stream",
          "text": [
            "Error: Invalid input! Please enter a number.\n",
            "Operation completed.\n"
          ]
        }
      ],
      "source": []
    },
    {
      "cell_type": "code",
      "execution_count": 27,
      "metadata": {
        "id": "yx3WFgajGEWr",
        "outputId": "0e332447-d67f-415e-e188-682aa790bdd8",
        "colab": {
          "base_uri": "https://localhost:8080/"
        }
      },
      "outputs": [
        {
          "output_type": "stream",
          "name": "stdout",
          "text": [
            "Enter the first number: 19\n",
            "Enter the second number: zero\n",
            "Error: Invalid input. Please enter valid numbers.\n",
            "All operations completed.\n"
          ]
        }
      ],
      "source": [
        "# write your answer here\n",
        "try:\n",
        "    num1 = float(input(\"Enter the first number: \"))\n",
        "    num2 = float(input(\"Enter the second number: \"))\n",
        "    result = num1 / num2\n",
        "except ZeroDivisionError:\n",
        "    print(\"Error: Cannot divide by zero.\")\n",
        "except ValueError:\n",
        "    print(\"Error: Invalid input. Please enter valid numbers.\")\n",
        "finally:\n",
        "    print(\"All operations completed.\")"
      ]
    },
    {
      "cell_type": "markdown",
      "metadata": {
        "id": "am0D07ZsGEWs"
      },
      "source": [
        "**14 Task:** Use lambda expressions and the filter() function to filter out words from a list that don't start with the letter 's'. For example:\n",
        "\n",
        "    seq = ['soup','dog','salad','cat','great']\n",
        "\n",
        "**should be filtered down to:**\n",
        "\n",
        "    ['soup','salad']"
      ]
    },
    {
      "cell_type": "code",
      "execution_count": 28,
      "metadata": {
        "id": "6GOf1oivGEWt"
      },
      "outputs": [],
      "source": [
        "seq = ['soup','dog','salad','cat','great']"
      ]
    },
    {
      "cell_type": "code",
      "execution_count": 29,
      "metadata": {
        "id": "LcRGLUevGEWt",
        "outputId": "baf00ed9-55f7-4eb2-a152-597926f00372",
        "colab": {
          "base_uri": "https://localhost:8080/"
        }
      },
      "outputs": [
        {
          "output_type": "stream",
          "name": "stdout",
          "text": [
            "['soup', 'salad']\n"
          ]
        }
      ],
      "source": [
        "# Filter out words that don't start with 's'\n",
        "filtered_seq = list(filter(lambda word: word.startswith('s'), seq))\n",
        "\n",
        "print(filtered_seq)"
      ]
    },
    {
      "cell_type": "markdown",
      "metadata": {
        "id": "mZ6sov5jGEWu"
      },
      "source": [
        "### Final Problem\n",
        "\n",
        "**15 Task:** You are given a list of students' scores and a cut-off mark. Write a Python program to determine:  \n",
        "1. The number of students who passed the cut-off mark.  \n",
        "2. The number of students who did not pass the cut-off mark.  \n",
        "3. Print the percentage of students who passed and failed.  \n",
        "\n",
        "**Details:**  \n",
        "- You will be provided a list of scores (e.g., `[45, 78, 88, 56, 90, 34, 65, 77]`).  \n",
        "- The cut-off mark is 50.  \n",
        "\n",
        "Write your program to calculate the above and output the results in a clear format.\n",
        "\n",
        "---\n",
        "\n",
        "### **Expected Output Example:**  \n",
        "For the given scores `[45, 78, 88, 56, 90, 34, 65, 77]` and cut-off mark of 50:  \n",
        "\n",
        "Number of students who passed: 5\n",
        "Number of students who failed: 3\n",
        "Percentage of students who passed: 62.5%\n",
        "Percentage of students who failed: 37.5%\n",
        "\n",
        "### **Hint:**  \n",
        "Use a loop or list comprehension to filter the scores based on the cut-off mark. You can calculate percentages using the formula:  "
      ]
    },
    {
      "cell_type": "code",
      "execution_count": null,
      "metadata": {
        "id": "ALcv-wbhGEWu",
        "outputId": "aea92bb3-41bf-496a-ce96-29fc52523fea"
      },
      "outputs": [
        {
          "name": "stdout",
          "output_type": "stream",
          "text": [
            "Number of students who passed: 6\n",
            "Number of students who failed: 2\n",
            "Percentage of students who passed: 75.00%\n",
            "Percentage of students who failed: 25.00%\n"
          ]
        }
      ],
      "source": [
        "# List of student scores\n",
        "scores = [45, 78, 88, 56, 90, 34, 65, 77]\n",
        "\n",
        "# Cut-off mark\n",
        "cut_off = 50\n",
        "\n",
        "\n",
        "\n",
        "# Print the results\n",
        "print(f\"Number of students who passed: {num_passed}\")\n",
        "print(f\"Number of students who failed: {num_failed}\")\n",
        "print(f\"Percentage of students who passed: {percent_passed:.2f}%\")\n",
        "print(f\"Percentage of students who failed: {percent_failed:.2f}%\")"
      ]
    },
    {
      "cell_type": "code",
      "execution_count": 30,
      "metadata": {
        "id": "yTHFVcNzGEWv",
        "outputId": "fabf6475-2248-4fd5-a128-d453a59a5985",
        "colab": {
          "base_uri": "https://localhost:8080/"
        }
      },
      "outputs": [
        {
          "output_type": "stream",
          "name": "stdout",
          "text": [
            "Number of students who passed: 6\n",
            "Number of students who failed: 2\n",
            "Percentage of students who passed: 75.00%\n",
            "Percentage of students who failed: 25.00%\n"
          ]
        }
      ],
      "source": [
        "# write your answer here\n",
        "# List of student scores\n",
        "scores = [45, 78, 88, 56, 90, 34, 65, 77]\n",
        "\n",
        "# Cut-off mark\n",
        "cut_off = 50\n",
        "\n",
        "# Calculate the number of students who passed\n",
        "num_passed = sum(1 for score in scores if score >= cut_off)\n",
        "\n",
        "# Calculate the number of students who failed\n",
        "num_failed = len(scores) - num_passed\n",
        "\n",
        "# Calculate percentages\n",
        "total_students = len(scores)\n",
        "percent_passed = (num_passed / total_students) * 100\n",
        "percent_failed = (num_failed / total_students) * 100\n",
        "\n",
        "# Print the results\n",
        "print(f\"Number of students who passed: {num_passed}\")\n",
        "print(f\"Number of students who failed: {num_failed}\")\n",
        "print(f\"Percentage of students who passed: {percent_passed:.2f}%\")\n",
        "print(f\"Percentage of students who failed: {percent_failed:.2f}%\")"
      ]
    },
    {
      "cell_type": "markdown",
      "metadata": {
        "id": "snIgZYksGEWv"
      },
      "source": [
        "# Great job!"
      ]
    }
  ],
  "metadata": {
    "kernelspec": {
      "display_name": "base",
      "language": "python",
      "name": "python3"
    },
    "language_info": {
      "codemirror_mode": {
        "name": "ipython",
        "version": 3
      },
      "file_extension": ".py",
      "mimetype": "text/x-python",
      "name": "python",
      "nbconvert_exporter": "python",
      "pygments_lexer": "ipython3",
      "version": "3.12.4"
    },
    "colab": {
      "provenance": []
    }
  },
  "nbformat": 4,
  "nbformat_minor": 0
}